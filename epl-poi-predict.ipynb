{
 "cells": [
  {
   "cell_type": "markdown",
   "metadata": {},
   "source": [
    "# Libraries"
   ]
  },
  {
   "cell_type": "code",
   "execution_count": 1,
   "metadata": {},
   "outputs": [],
   "source": [
    "import numpy as np\n",
    "import pandas as pd\n",
    "from scipy.stats import poisson\n",
    "import matplotlib.pyplot as plt\n",
    "import seaborn as sns\n",
    "from tabulate import tabulate"
   ]
  },
  {
   "cell_type": "markdown",
   "metadata": {},
   "source": [
    "# Dataset"
   ]
  },
  {
   "cell_type": "code",
   "execution_count": 2,
   "metadata": {},
   "outputs": [
    {
     "data": {
      "text/html": [
       "<div>\n",
       "<style scoped>\n",
       "    .dataframe tbody tr th:only-of-type {\n",
       "        vertical-align: middle;\n",
       "    }\n",
       "\n",
       "    .dataframe tbody tr th {\n",
       "        vertical-align: top;\n",
       "    }\n",
       "\n",
       "    .dataframe thead th {\n",
       "        text-align: right;\n",
       "    }\n",
       "</style>\n",
       "<table border=\"1\" class=\"dataframe\">\n",
       "  <thead>\n",
       "    <tr style=\"text-align: right;\">\n",
       "      <th></th>\n",
       "      <th>Div</th>\n",
       "      <th>Date</th>\n",
       "      <th>Time</th>\n",
       "      <th>HomeTeam</th>\n",
       "      <th>AwayTeam</th>\n",
       "      <th>FTHG</th>\n",
       "      <th>FTAG</th>\n",
       "      <th>FTR</th>\n",
       "      <th>HTHG</th>\n",
       "      <th>HTAG</th>\n",
       "      <th>...</th>\n",
       "      <th>AvgC&lt;2.5</th>\n",
       "      <th>AHCh</th>\n",
       "      <th>B365CAHH</th>\n",
       "      <th>B365CAHA</th>\n",
       "      <th>PCAHH</th>\n",
       "      <th>PCAHA</th>\n",
       "      <th>MaxCAHH</th>\n",
       "      <th>MaxCAHA</th>\n",
       "      <th>AvgCAHH</th>\n",
       "      <th>AvgCAHA</th>\n",
       "    </tr>\n",
       "  </thead>\n",
       "  <tbody>\n",
       "    <tr>\n",
       "      <th>0</th>\n",
       "      <td>E0</td>\n",
       "      <td>12/09/2020</td>\n",
       "      <td>12:30</td>\n",
       "      <td>Fulham</td>\n",
       "      <td>Arsenal</td>\n",
       "      <td>0</td>\n",
       "      <td>3</td>\n",
       "      <td>A</td>\n",
       "      <td>0</td>\n",
       "      <td>1</td>\n",
       "      <td>...</td>\n",
       "      <td>1.84</td>\n",
       "      <td>0.75</td>\n",
       "      <td>2.01</td>\n",
       "      <td>1.89</td>\n",
       "      <td>2.02</td>\n",
       "      <td>1.91</td>\n",
       "      <td>2.13</td>\n",
       "      <td>1.92</td>\n",
       "      <td>2.02</td>\n",
       "      <td>1.87</td>\n",
       "    </tr>\n",
       "    <tr>\n",
       "      <th>1</th>\n",
       "      <td>E0</td>\n",
       "      <td>12/09/2020</td>\n",
       "      <td>15:00</td>\n",
       "      <td>Crystal Palace</td>\n",
       "      <td>Southampton</td>\n",
       "      <td>1</td>\n",
       "      <td>0</td>\n",
       "      <td>H</td>\n",
       "      <td>1</td>\n",
       "      <td>0</td>\n",
       "      <td>...</td>\n",
       "      <td>1.70</td>\n",
       "      <td>0.25</td>\n",
       "      <td>1.78</td>\n",
       "      <td>2.13</td>\n",
       "      <td>1.79</td>\n",
       "      <td>2.17</td>\n",
       "      <td>1.85</td>\n",
       "      <td>2.18</td>\n",
       "      <td>1.79</td>\n",
       "      <td>2.12</td>\n",
       "    </tr>\n",
       "    <tr>\n",
       "      <th>2</th>\n",
       "      <td>E0</td>\n",
       "      <td>12/09/2020</td>\n",
       "      <td>17:30</td>\n",
       "      <td>Liverpool</td>\n",
       "      <td>Leeds</td>\n",
       "      <td>4</td>\n",
       "      <td>3</td>\n",
       "      <td>H</td>\n",
       "      <td>3</td>\n",
       "      <td>2</td>\n",
       "      <td>...</td>\n",
       "      <td>2.62</td>\n",
       "      <td>-1.50</td>\n",
       "      <td>1.85</td>\n",
       "      <td>2.05</td>\n",
       "      <td>1.85</td>\n",
       "      <td>2.08</td>\n",
       "      <td>1.90</td>\n",
       "      <td>2.16</td>\n",
       "      <td>1.84</td>\n",
       "      <td>2.04</td>\n",
       "    </tr>\n",
       "    <tr>\n",
       "      <th>3</th>\n",
       "      <td>E0</td>\n",
       "      <td>12/09/2020</td>\n",
       "      <td>20:00</td>\n",
       "      <td>West Ham</td>\n",
       "      <td>Newcastle</td>\n",
       "      <td>0</td>\n",
       "      <td>2</td>\n",
       "      <td>A</td>\n",
       "      <td>0</td>\n",
       "      <td>0</td>\n",
       "      <td>...</td>\n",
       "      <td>1.92</td>\n",
       "      <td>-0.50</td>\n",
       "      <td>2.03</td>\n",
       "      <td>1.87</td>\n",
       "      <td>2.04</td>\n",
       "      <td>1.88</td>\n",
       "      <td>2.09</td>\n",
       "      <td>1.91</td>\n",
       "      <td>2.02</td>\n",
       "      <td>1.86</td>\n",
       "    </tr>\n",
       "    <tr>\n",
       "      <th>4</th>\n",
       "      <td>E0</td>\n",
       "      <td>13/09/2020</td>\n",
       "      <td>14:00</td>\n",
       "      <td>West Brom</td>\n",
       "      <td>Leicester</td>\n",
       "      <td>0</td>\n",
       "      <td>3</td>\n",
       "      <td>A</td>\n",
       "      <td>0</td>\n",
       "      <td>0</td>\n",
       "      <td>...</td>\n",
       "      <td>1.73</td>\n",
       "      <td>0.25</td>\n",
       "      <td>1.92</td>\n",
       "      <td>1.98</td>\n",
       "      <td>1.93</td>\n",
       "      <td>1.99</td>\n",
       "      <td>1.95</td>\n",
       "      <td>2.01</td>\n",
       "      <td>1.91</td>\n",
       "      <td>1.97</td>\n",
       "    </tr>\n",
       "  </tbody>\n",
       "</table>\n",
       "<p>5 rows × 106 columns</p>\n",
       "</div>"
      ],
      "text/plain": [
       "  Div        Date   Time        HomeTeam     AwayTeam  FTHG  FTAG FTR  HTHG  \\\n",
       "0  E0  12/09/2020  12:30          Fulham      Arsenal     0     3   A     0   \n",
       "1  E0  12/09/2020  15:00  Crystal Palace  Southampton     1     0   H     1   \n",
       "2  E0  12/09/2020  17:30       Liverpool        Leeds     4     3   H     3   \n",
       "3  E0  12/09/2020  20:00        West Ham    Newcastle     0     2   A     0   \n",
       "4  E0  13/09/2020  14:00       West Brom    Leicester     0     3   A     0   \n",
       "\n",
       "   HTAG  ... AvgC<2.5  AHCh  B365CAHH  B365CAHA  PCAHH  PCAHA  MaxCAHH  \\\n",
       "0     1  ...     1.84  0.75      2.01      1.89   2.02   1.91     2.13   \n",
       "1     0  ...     1.70  0.25      1.78      2.13   1.79   2.17     1.85   \n",
       "2     2  ...     2.62 -1.50      1.85      2.05   1.85   2.08     1.90   \n",
       "3     0  ...     1.92 -0.50      2.03      1.87   2.04   1.88     2.09   \n",
       "4     0  ...     1.73  0.25      1.92      1.98   1.93   1.99     1.95   \n",
       "\n",
       "   MaxCAHA  AvgCAHH  AvgCAHA  \n",
       "0     1.92     2.02     1.87  \n",
       "1     2.18     1.79     2.12  \n",
       "2     2.16     1.84     2.04  \n",
       "3     1.91     2.02     1.86  \n",
       "4     2.01     1.91     1.97  \n",
       "\n",
       "[5 rows x 106 columns]"
      ]
     },
     "execution_count": 2,
     "metadata": {},
     "output_type": "execute_result"
    }
   ],
   "source": [
    "master_df = pd.read_csv('E0.csv') # source: https://www.football-data.co.uk\n",
    "master_df.head()"
   ]
  },
  {
   "cell_type": "markdown",
   "metadata": {},
   "source": [
    "# Arsenal VS. Man United"
   ]
  },
  {
   "cell_type": "code",
   "execution_count": 3,
   "metadata": {},
   "outputs": [
    {
     "data": {
      "text/html": [
       "<div>\n",
       "<style scoped>\n",
       "    .dataframe tbody tr th:only-of-type {\n",
       "        vertical-align: middle;\n",
       "    }\n",
       "\n",
       "    .dataframe tbody tr th {\n",
       "        vertical-align: top;\n",
       "    }\n",
       "\n",
       "    .dataframe thead th {\n",
       "        text-align: right;\n",
       "    }\n",
       "</style>\n",
       "<table border=\"1\" class=\"dataframe\">\n",
       "  <thead>\n",
       "    <tr style=\"text-align: right;\">\n",
       "      <th></th>\n",
       "      <th>Home Goals by All Teams</th>\n",
       "      <th>Away Goals by All Teams</th>\n",
       "      <th>Home Goals Scored by Arsenal</th>\n",
       "      <th>Home Goals Conceded by Arsenal</th>\n",
       "      <th>Away Goals Scored by Man United</th>\n",
       "      <th>Away Goals Conceded by Man United</th>\n",
       "    </tr>\n",
       "  </thead>\n",
       "  <tbody>\n",
       "    <tr>\n",
       "      <th>Goals</th>\n",
       "      <td>264</td>\n",
       "      <td>270</td>\n",
       "      <td>12</td>\n",
       "      <td>11</td>\n",
       "      <td>24</td>\n",
       "      <td>12</td>\n",
       "    </tr>\n",
       "    <tr>\n",
       "      <th>Matches</th>\n",
       "      <td>195</td>\n",
       "      <td>195</td>\n",
       "      <td>10</td>\n",
       "      <td>10</td>\n",
       "      <td>10</td>\n",
       "      <td>10</td>\n",
       "    </tr>\n",
       "    <tr>\n",
       "      <th>Averages</th>\n",
       "      <td>1.35385</td>\n",
       "      <td>1.38462</td>\n",
       "      <td>1.2</td>\n",
       "      <td>1.1</td>\n",
       "      <td>2.4</td>\n",
       "      <td>1.2</td>\n",
       "    </tr>\n",
       "  </tbody>\n",
       "</table>\n",
       "</div>"
      ],
      "text/plain": [
       "         Home Goals by All Teams Away Goals by All Teams  \\\n",
       "Goals                        264                     270   \n",
       "Matches                      195                     195   \n",
       "Averages                 1.35385                 1.38462   \n",
       "\n",
       "         Home Goals Scored by Arsenal Home Goals Conceded by Arsenal  \\\n",
       "Goals                              12                             11   \n",
       "Matches                            10                             10   \n",
       "Averages                          1.2                            1.1   \n",
       "\n",
       "         Away Goals Scored by Man United Away Goals Conceded by Man United  \n",
       "Goals                                 24                                12  \n",
       "Matches                               10                                10  \n",
       "Averages                             2.4                               1.2  "
      ]
     },
     "execution_count": 3,
     "metadata": {},
     "output_type": "execute_result"
    }
   ],
   "source": [
    "# Man United properties\n",
    "mu_scored = sum(master_df.loc[master_df['AwayTeam']=='Man United', 'FTAG'].tolist())\n",
    "mu_conceded = sum(master_df.loc[master_df['AwayTeam']=='Man United', 'FTHG'].tolist())\n",
    "mu_matches = master_df.loc[master_df['AwayTeam']=='Man United', :].shape[0]\n",
    "# Arsenal properties\n",
    "ars_scored = sum(master_df.loc[master_df['HomeTeam']=='Arsenal', 'FTHG'].tolist())\n",
    "ars_conceded = sum(master_df.loc[master_df['HomeTeam']=='Arsenal', 'FTAG'].tolist())\n",
    "ars_matches = master_df.loc[master_df['HomeTeam']=='Arsenal', :].shape[0]\n",
    "# All premier league teams properties\n",
    "all_hg = sum(master_df.loc[:, 'FTHG'].tolist())\n",
    "all_ag = sum(master_df.loc[:, 'FTAG'].tolist())\n",
    "all_hm = master_df.loc[:, 'FTHG'].shape[0]\n",
    "all_am = master_df.loc[:, 'FTAG'].shape[0]\n",
    "# make df\n",
    "data = {\"Home Goals by All Teams\":['%g'%(all_hg), all_hm, all_hg/all_hm],\n",
    "       \"Away Goals by All Teams\":['%g'%(all_ag), all_am, all_ag/all_am],\n",
    "       \"Home Goals Scored by Arsenal\":['%g'%(ars_scored), ars_matches, ars_scored/ars_matches],\n",
    "       \"Home Goals Conceded by Arsenal\":['%g'%(ars_conceded), ars_matches, ars_conceded/ars_matches],\n",
    "       \"Away Goals Scored by Man United\":['%g'%(mu_scored), mu_matches, mu_scored/mu_matches],\n",
    "        \"Away Goals Conceded by Man United\":['%g'%(mu_conceded), mu_matches, mu_conceded/mu_matches]\n",
    "       }\n",
    "goal_expectancy_df = pd.DataFrame(data, index = ['Goals', 'Matches', 'Averages'])\n",
    "goal_expectancy_df"
   ]
  },
  {
   "cell_type": "markdown",
   "metadata": {},
   "source": [
    "## Attack & Defence Strength"
   ]
  },
  {
   "cell_type": "code",
   "execution_count": 4,
   "metadata": {},
   "outputs": [
    {
     "name": "stdout",
     "output_type": "stream",
     "text": [
      "Arsenal Attack Strength: 0.886\n",
      "Arsenal Defence Strength: 0.794\n",
      "Man United Attack Strength: 1.733\n",
      "Man United Defence Strength: 0.886\n"
     ]
    }
   ],
   "source": [
    "ars_att = (ars_scored/ars_matches)/(all_hg/all_hm)\n",
    "mu_att = (mu_scored/mu_matches)/(all_ag/all_am)\n",
    "ars_def = (ars_conceded/ars_matches)/(all_ag/all_am)\n",
    "mu_def = (mu_conceded/mu_matches)/(all_hg/all_hm)\n",
    "print(\"Arsenal Attack Strength: \" + str(round(ars_att,3)) + '\\n' + \"Arsenal Defence Strength: \" + str(round(ars_def,3)))\n",
    "print(\"Man United Attack Strength: \" + str(round(mu_att,3)) + '\\n' + \"Man United Defence Strength: \" + str(round(mu_def,3)))"
   ]
  },
  {
   "cell_type": "markdown",
   "metadata": {},
   "source": [
    "## Goal Expectancy"
   ]
  },
  {
   "cell_type": "code",
   "execution_count": 5,
   "metadata": {},
   "outputs": [
    {
     "name": "stdout",
     "output_type": "stream",
     "text": [
      "Arsenal Goal Expectancy: 1.064\n",
      "Man United Goal Expectancy: 1.907\n"
     ]
    }
   ],
   "source": [
    "ars_gx = ars_att * mu_def * (all_hg/all_hm)\n",
    "mu_gx = mu_att * ars_def * (all_ag/all_am)\n",
    "print(\"Arsenal Goal Expectancy: \"+  str(round(ars_gx,3)) + '\\n' + \"Man United Goal Expectancy: \" + str(round(mu_gx,3)))"
   ]
  },
  {
   "cell_type": "markdown",
   "metadata": {},
   "source": [
    "## Poisson Formula"
   ]
  },
  {
   "cell_type": "code",
   "execution_count": 6,
   "metadata": {},
   "outputs": [
    {
     "name": "stdout",
     "output_type": "stream",
     "text": [
      "+-------+----------------------+------------------------+\n",
      "| Goals | Arsenal Probability  | Man United Probability |\n",
      "+-------+----------------------+------------------------+\n",
      "|   0   | 0.34519825886271105  |  0.14857481146776708   |\n",
      "|   1   |  0.3671654207903381  |  0.28328264053187596   |\n",
      "|   2   |  0.1952652465112252  |   0.2700627839737217   |\n",
      "|   3   | 0.06923040558125257  |  0.17163990270329874   |\n",
      "|   4   | 0.018408994211378517 |  0.08181502028857238   |\n",
      "|   5   | 0.003916095132238703 |  0.031198794403375623  |\n",
      "+-------+----------------------+------------------------+\n"
     ]
    }
   ],
   "source": [
    "goals = list(range(0,6))\n",
    "ars_poi = []\n",
    "mu_poi = []\n",
    "for goal in goals:\n",
    "    ars_poi.append(poisson.pmf(goal, ars_gx))\n",
    "    mu_poi.append(poisson.pmf(goal, mu_gx))\n",
    "prob_df = pd.DataFrame({\"Goals\":goals, \"Arsenal Probability\":ars_poi, \"Man United Probability\":mu_poi})\n",
    "prob_df.set_index(\"Goals\", inplace=True)\n",
    "print(tabulate(prob_df, headers='keys', showindex=True, tablefmt=\"pretty\"))"
   ]
  },
  {
   "cell_type": "code",
   "execution_count": 7,
   "metadata": {},
   "outputs": [
    {
     "data": {
      "text/html": [
       "<div>\n",
       "<style scoped>\n",
       "    .dataframe tbody tr th:only-of-type {\n",
       "        vertical-align: middle;\n",
       "    }\n",
       "\n",
       "    .dataframe tbody tr th {\n",
       "        vertical-align: top;\n",
       "    }\n",
       "\n",
       "    .dataframe thead th {\n",
       "        text-align: right;\n",
       "    }\n",
       "</style>\n",
       "<table border=\"1\" class=\"dataframe\">\n",
       "  <thead>\n",
       "    <tr style=\"text-align: right;\">\n",
       "      <th>Arsenal Goals</th>\n",
       "      <th>0</th>\n",
       "      <th>1</th>\n",
       "      <th>2</th>\n",
       "      <th>3</th>\n",
       "      <th>4</th>\n",
       "      <th>5</th>\n",
       "    </tr>\n",
       "    <tr>\n",
       "      <th>Man United Goals</th>\n",
       "      <th></th>\n",
       "      <th></th>\n",
       "      <th></th>\n",
       "      <th></th>\n",
       "      <th></th>\n",
       "      <th></th>\n",
       "    </tr>\n",
       "  </thead>\n",
       "  <tbody>\n",
       "    <tr>\n",
       "      <th>0</th>\n",
       "      <td>0.051288</td>\n",
       "      <td>0.054552</td>\n",
       "      <td>0.029011</td>\n",
       "      <td>0.010286</td>\n",
       "      <td>0.002735</td>\n",
       "      <td>0.000582</td>\n",
       "    </tr>\n",
       "    <tr>\n",
       "      <th>1</th>\n",
       "      <td>0.097789</td>\n",
       "      <td>0.104012</td>\n",
       "      <td>0.055315</td>\n",
       "      <td>0.019612</td>\n",
       "      <td>0.005215</td>\n",
       "      <td>0.001109</td>\n",
       "    </tr>\n",
       "    <tr>\n",
       "      <th>2</th>\n",
       "      <td>0.093225</td>\n",
       "      <td>0.099158</td>\n",
       "      <td>0.052734</td>\n",
       "      <td>0.018697</td>\n",
       "      <td>0.004972</td>\n",
       "      <td>0.001058</td>\n",
       "    </tr>\n",
       "    <tr>\n",
       "      <th>3</th>\n",
       "      <td>0.059250</td>\n",
       "      <td>0.063020</td>\n",
       "      <td>0.033515</td>\n",
       "      <td>0.011883</td>\n",
       "      <td>0.003160</td>\n",
       "      <td>0.000672</td>\n",
       "    </tr>\n",
       "    <tr>\n",
       "      <th>4</th>\n",
       "      <td>0.028242</td>\n",
       "      <td>0.030040</td>\n",
       "      <td>0.015976</td>\n",
       "      <td>0.005664</td>\n",
       "      <td>0.001506</td>\n",
       "      <td>0.000320</td>\n",
       "    </tr>\n",
       "    <tr>\n",
       "      <th>5</th>\n",
       "      <td>0.010770</td>\n",
       "      <td>0.011455</td>\n",
       "      <td>0.006092</td>\n",
       "      <td>0.002160</td>\n",
       "      <td>0.000574</td>\n",
       "      <td>0.000122</td>\n",
       "    </tr>\n",
       "  </tbody>\n",
       "</table>\n",
       "</div>"
      ],
      "text/plain": [
       "Arsenal Goals            0         1         2         3         4         5\n",
       "Man United Goals                                                            \n",
       "0                 0.051288  0.054552  0.029011  0.010286  0.002735  0.000582\n",
       "1                 0.097789  0.104012  0.055315  0.019612  0.005215  0.001109\n",
       "2                 0.093225  0.099158  0.052734  0.018697  0.004972  0.001058\n",
       "3                 0.059250  0.063020  0.033515  0.011883  0.003160  0.000672\n",
       "4                 0.028242  0.030040  0.015976  0.005664  0.001506  0.000320\n",
       "5                 0.010770  0.011455  0.006092  0.002160  0.000574  0.000122"
      ]
     },
     "execution_count": 7,
     "metadata": {},
     "output_type": "execute_result"
    }
   ],
   "source": [
    "all_ars_prob = []\n",
    "for ars_prob in ars_poi:\n",
    "    for mu_prob in mu_poi:\n",
    "        all_ars_prob.append(ars_prob*mu_prob)\n",
    "ars_0 = all_ars_prob[0:6]\n",
    "ars_1 = all_ars_prob[6:12]\n",
    "ars_2 = all_ars_prob[12:18]\n",
    "ars_3 = all_ars_prob[18:24]\n",
    "ars_4 = all_ars_prob[24:30]\n",
    "ars_5 = all_ars_prob[30:36]\n",
    "# make df\n",
    "goals_prob_df = pd.DataFrame({\"Man United Goals\":goals, \"0\":ars_0, \"1\":ars_1, \"2\":ars_2, \"3\":ars_3, \"4\":ars_4,\n",
    "                              \"5\":ars_5})\n",
    "goals_prob_df.set_index(\"Man United Goals\", inplace=True)\n",
    "goals_prob_df.columns.name = \"Arsenal Goals\"\n",
    "goals_prob_df"
   ]
  },
  {
   "cell_type": "code",
   "execution_count": 8,
   "metadata": {},
   "outputs": [
    {
     "name": "stdout",
     "output_type": "stream",
     "text": [
      "Arsenal estimated chance to win: 20.73\n",
      "Man United estimated chance to win: 55.69\n",
      "Estimated chance to draw: 22.15\n"
     ]
    }
   ],
   "source": [
    "goals_prob_np = goals_prob_df.to_numpy()\n",
    "ars_win_prob = np.sum(np.triu(goals_prob_np, 1))\n",
    "mu_win_prob = np.sum(np.tril(goals_prob_np, -1))\n",
    "draw_prob = np.sum(np.diag(goals_prob_np))\n",
    "print(\"Arsenal estimated chance to win: \" + str(round((ars_win_prob*100),2)))\n",
    "print(\"Man United estimated chance to win: \" + str(round((mu_win_prob*100),2)))\n",
    "print(\"Estimated chance to draw: \" + str(round((draw_prob*100),2)))"
   ]
  },
  {
   "cell_type": "code",
   "execution_count": 9,
   "metadata": {},
   "outputs": [
    {
     "name": "stdout",
     "output_type": "stream",
     "text": [
      "Arsenal odds to win: 4.824038116444005\n",
      "Man United odds to win: 1.7955582049354397\n",
      "Odds to draw: 4.513771114166787\n"
     ]
    }
   ],
   "source": [
    "print(\"Arsenal odds to win: \" + str(1/ars_win_prob))\n",
    "print(\"Man United odds to win: \" + str(1/mu_win_prob))\n",
    "print(\"Odds to draw: \" + str(1/draw_prob))"
   ]
  },
  {
   "cell_type": "code",
   "execution_count": 50,
   "metadata": {},
   "outputs": [
    {
     "data": {
      "image/png": "[encoded data removed]",
      "text/plain": [
       "<Figure size 745.2x216 with 1 Axes>"
      ]
     },
     "metadata": {},
     "output_type": "display_data"
    },
    {
     "name": "stdout",
     "output_type": "stream",
     "text": [
      "+-------------------+-----------------+-----------+--------------+--------------+\n",
      "|                   | Goal Expectancy | Poisson % | Poisson Odds | Bookies Odds |\n",
      "+-------------------+-----------------+-----------+--------------+--------------+\n",
      "|  Arsenal (Home)   |      1.06       |   20.73   |     4.82     |     1.85     |\n",
      "| Man United (Away) |      1.91       |   55.69   |     1.8      |     1.5      |\n",
      "|       Draw        |        -        |   22.15   |     4.51     |     2.5      |\n",
      "+-------------------+-----------------+-----------+--------------+--------------+\n"
     ]
    }
   ],
   "source": [
    "# chart\n",
    "all_ars_prob_sorted = sorted(all_ars_prob, reverse=True)\n",
    "ars_score = []\n",
    "mu_score = []\n",
    "prob_val = []\n",
    "for i in all_ars_prob_sorted[0:28]:\n",
    "    mu_score.append(np.array((np.where(goals_prob_df.values == i))).tolist()[0])\n",
    "    ars_score.append(np.array((np.where(goals_prob_df.values == i))).tolist()[1])\n",
    "    prob_val.append(i*100)\n",
    "ars_score = [item for items in ars_score for item in items]\n",
    "mu_score = [item for items in mu_score for item in items]\n",
    "score_str = []\n",
    "for i in range(0,28):\n",
    "    score_str.append(str(ars_score[i]) + '-' + str(mu_score[i]))\n",
    "sns.set_style(\"darkgrid\")\n",
    "plt.figure(figsize=[10.35,3])\n",
    "y_pos = np.arange(len(score_str))\n",
    "plt.bar(y_pos, prob_val, color='tab:blue')\n",
    "plt.xticks(y_pos, score_str)\n",
    "plt.ylabel('Probability (%)')\n",
    "plt.title(\"Arsenal VS Man United\")\n",
    "plt.show()\n",
    "# table\n",
    "bookies_odds = [37/20, 6/4, 5/2] # source: https://www.telegraph.co.uk\n",
    "final_df = pd.DataFrame({\"Goal Expectancy\":[str(round(ars_gx,2)), str(round(mu_gx,2)), '-'],\n",
    "                         \"Poisson %\": [round(ars_win_prob*100,2), round(mu_win_prob*100,2), round(draw_prob*100,2)],\n",
    "                        \"Poisson Odds\":[round(1/ars_win_prob,2), round(1/mu_win_prob,2), round(1/draw_prob,2)], \n",
    "                        \"Bookies Odds\":bookies_odds}, index=[\"Arsenal (Home)\", \"Man United (Away)\", \"Draw\"])\n",
    "print(tabulate(final_df, headers='keys', showindex=True, tablefmt=\"pretty\"))"
   ]
  },
  {
   "cell_type": "markdown",
   "metadata": {},
   "source": [
    "# References"
   ]
  },
  {
   "cell_type": "markdown",
   "metadata": {},
   "source": [
    "- https://www.youtube.com/watch?v=qk00EXMKjgI&t=626s\n",
    "- https://www.youtube.com/watch?v=ZZW2b84T0cw&list=LL&index=11&t=484s"
   ]
  }
 ],
 "metadata": {
  "kernelspec": {
   "display_name": "Python 3",
   "language": "python",
   "name": "python3"
  },
  "language_info": {
   "codemirror_mode": {
    "name": "ipython",
    "version": 3
   },
   "file_extension": ".py",
   "mimetype": "text/x-python",
   "name": "python",
   "nbconvert_exporter": "python",
   "pygments_lexer": "ipython3",
   "version": "3.8.2"
  }
 },
 "nbformat": 4,
 "nbformat_minor": 4
}
